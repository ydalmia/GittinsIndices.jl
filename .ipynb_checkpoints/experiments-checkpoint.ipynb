{
 "cells": [
  {
   "cell_type": "code",
   "execution_count": 1,
   "id": "4c04f136",
   "metadata": {},
   "outputs": [
    {
     "name": "stderr",
     "output_type": "stream",
     "text": [
      "\u001b[36m\u001b[1m[ \u001b[22m\u001b[39m\u001b[36m\u001b[1mInfo: \u001b[22m\u001b[39mPrecompiling GittinsIndices [528e2044-b1ef-47f1-a8f4-693ac85d91f9]\n",
      "\u001b[91m\u001b[1mERROR: \u001b[22m\u001b[39mLoadError: ArgumentError: Package ProgressLogging [33c8b6b6-d38a-422a-b730-caa89a2f386c] is required but does not seem to be installed:\n",
      " - Run `Pkg.instantiate()` to install all recorded dependencies.\n",
      "\n",
      "Stacktrace:\n",
      " [1] \u001b[0m\u001b[1m_require\u001b[22m\u001b[0m\u001b[1m(\u001b[22m\u001b[90mpkg\u001b[39m::\u001b[0mBase.PkgId\u001b[0m\u001b[1m)\u001b[22m\n",
      "\u001b[90m   @ \u001b[39m\u001b[90mBase\u001b[39m \u001b[90m./\u001b[39m\u001b[90m\u001b[4mloading.jl:1306\u001b[24m\u001b[39m\n",
      " [2] \u001b[0m\u001b[1m_require_prelocked\u001b[22m\u001b[0m\u001b[1m(\u001b[22m\u001b[90muuidkey\u001b[39m::\u001b[0mBase.PkgId\u001b[0m\u001b[1m)\u001b[22m\n",
      "\u001b[90m   @ \u001b[39m\u001b[90mBase\u001b[39m \u001b[90m./\u001b[39m\u001b[90m\u001b[4mloading.jl:1200\u001b[24m\u001b[39m\n",
      " [3] \u001b[0m\u001b[1mmacro expansion\u001b[22m\n",
      "\u001b[90m   @ \u001b[39m\u001b[90m./\u001b[39m\u001b[90m\u001b[4mloading.jl:1180\u001b[24m\u001b[39m\u001b[90m [inlined]\u001b[39m\n",
      " [4] \u001b[0m\u001b[1mmacro expansion\u001b[22m\n",
      "\u001b[90m   @ \u001b[39m\u001b[90m./\u001b[39m\u001b[90m\u001b[4mlock.jl:223\u001b[24m\u001b[39m\u001b[90m [inlined]\u001b[39m\n",
      " [5] \u001b[0m\u001b[1mrequire\u001b[22m\u001b[0m\u001b[1m(\u001b[22m\u001b[90minto\u001b[39m::\u001b[0mModule, \u001b[90mmod\u001b[39m::\u001b[0mSymbol\u001b[0m\u001b[1m)\u001b[22m\n",
      "\u001b[90m   @ \u001b[39m\u001b[90mBase\u001b[39m \u001b[90m./\u001b[39m\u001b[90m\u001b[4mloading.jl:1144\u001b[24m\u001b[39m\n",
      " [6] \u001b[0m\u001b[1minclude\u001b[22m\n",
      "\u001b[90m   @ \u001b[39m\u001b[90m./\u001b[39m\u001b[90m\u001b[4mBase.jl:419\u001b[24m\u001b[39m\u001b[90m [inlined]\u001b[39m\n",
      " [7] \u001b[0m\u001b[1minclude_package_for_output\u001b[22m\u001b[0m\u001b[1m(\u001b[22m\u001b[90mpkg\u001b[39m::\u001b[0mBase.PkgId, \u001b[90minput\u001b[39m::\u001b[0mString, \u001b[90mdepot_path\u001b[39m::\u001b[0mVector\u001b[90m{String}\u001b[39m, \u001b[90mdl_load_path\u001b[39m::\u001b[0mVector\u001b[90m{String}\u001b[39m, \u001b[90mload_path\u001b[39m::\u001b[0mVector\u001b[90m{String}\u001b[39m, \u001b[90mconcrete_deps\u001b[39m::\u001b[0mVector\u001b[90m{Pair{Base.PkgId, UInt64}}\u001b[39m, \u001b[90msource\u001b[39m::\u001b[0mNothing\u001b[0m\u001b[1m)\u001b[22m\n",
      "\u001b[90m   @ \u001b[39m\u001b[90mBase\u001b[39m \u001b[90m./\u001b[39m\u001b[90m\u001b[4mloading.jl:1554\u001b[24m\u001b[39m\n",
      " [8] top-level scope\n",
      "\u001b[90m   @ \u001b[39m\u001b[90m\u001b[4mstdin:1\u001b[24m\u001b[39m\n",
      "in expression starting at /Users/ameliebuc/Projects/GittinsIndices.jl/src/GittinsIndices.jl:1\n",
      "in expression starting at stdin:1\n"
     ]
    },
    {
     "ename": "LoadError",
     "evalue": "Failed to precompile GittinsIndices [528e2044-b1ef-47f1-a8f4-693ac85d91f9] to /Users/ameliebuc/.julia/compiled/v1.8/GittinsIndices/jl_2srvJi.",
     "output_type": "error",
     "traceback": [
      "Failed to precompile GittinsIndices [528e2044-b1ef-47f1-a8f4-693ac85d91f9] to /Users/ameliebuc/.julia/compiled/v1.8/GittinsIndices/jl_2srvJi.",
      "",
      "Stacktrace:",
      " [1] error(s::String)",
      "   @ Base ./error.jl:35",
      " [2] compilecache(pkg::Base.PkgId, path::String, internal_stderr::IO, internal_stdout::IO, keep_loaded_modules::Bool)",
      "   @ Base ./loading.jl:1707",
      " [3] compilecache",
      "   @ ./loading.jl:1651 [inlined]",
      " [4] _require(pkg::Base.PkgId)",
      "   @ Base ./loading.jl:1337",
      " [5] _require_prelocked(uuidkey::Base.PkgId)",
      "   @ Base ./loading.jl:1200",
      " [6] macro expansion",
      "   @ ./loading.jl:1180 [inlined]",
      " [7] macro expansion",
      "   @ ./lock.jl:223 [inlined]",
      " [8] require(into::Module, mod::Symbol)",
      "   @ Base ./loading.jl:1144"
     ]
    }
   ],
   "source": [
    "using GittinsIndices\n",
    "using Distributions\n",
    "using Plots"
   ]
  },
  {
   "cell_type": "code",
   "execution_count": 8,
   "id": "9d2bc2a3",
   "metadata": {},
   "outputs": [
    {
     "data": {
      "text/plain": [
       "get_ucb_action (generic function with 2 methods)"
      ]
     },
     "execution_count": 8,
     "metadata": {},
     "output_type": "execute_result"
    }
   ],
   "source": [
    "function get_gittins_action(gittins_priors, gamma)\n",
    "    gittins_indices = [\n",
    "        calculate_bernoulli_gittins(\n",
    "            alpha = alpha, \n",
    "            beta = beta, \n",
    "            gamma = gamma,\n",
    "        ) for (alpha, beta) in gittins_priors\n",
    "    ]\n",
    "    gittins_action = argmax(gittins_indices)\n",
    "    return gittins_action\n",
    "end\n",
    "\n",
    "function get_thompson_action(thompson_priors)\n",
    "    thompson_sampling_probs = [\n",
    "        alpha / (alpha + beta) \n",
    "        for (alpha, beta) in thompson_priors\n",
    "    ]\n",
    "    thompson_sampling_probs ./= sum(thompson_sampling_probs)\n",
    "    thompson_action = rand(Categorical(thompson_sampling_probs))\n",
    "    return thompson_action\n",
    "end\n",
    "\n",
    "function get_ucb_action(ucb_values, num_pulls, c = 1.0)\n",
    "    ucb_bounds = [\n",
    "        ucb_values[i] + c * sqrt(log(num_pulls) / max(1, sum(ucb_counts)))\n",
    "        for i in 1:length(ucb_values)\n",
    "    ]\n",
    "    ucb_action = argmax(ucb_bounds)\n",
    "    return ucb_action\n",
    "end\n",
    "\n",
    "function get_greedy_action(q_values, epsilon)\n",
    "    if rand() < epsilon # Explore\n",
    "        return rand(1:length(q_values)) #n_arms\n",
    "    else\n",
    "        return argmax(q_values) # Exploit\n",
    "    end\n",
    "end"
   ]
  },
  {
   "cell_type": "code",
   "execution_count": 6,
   "id": "c01f4a9a",
   "metadata": {},
   "outputs": [
    {
     "data": {
      "text/plain": [
       "gittins_ucb_thompson (generic function with 1 method)"
      ]
     },
     "execution_count": 6,
     "metadata": {},
     "output_type": "execute_result"
    }
   ],
   "source": [
    "function gittins_vs(;num_arms, gamma, num_pulls)\n",
    "    arms = [Bernoulli(rand(Float64)) for _ in 1:num_arms]\n",
    "    \n",
    "    gittins_priors = [[1, 1] for _ in 1:num_arms]\n",
    "    gittins_rewards = []\n",
    "    \n",
    "    thompson_priors = [[1, 1] for _ in 1:num_arms]\n",
    "    thompson_rewards = []\n",
    "        \n",
    "    ucb_values = [0.0 for _ in 1:num_arms]\n",
    "    ucb_rewards = []\n",
    "    \n",
    "    q_values = zeros(num_arms)\n",
    "    q_counts = zeros(Int, num_arms)\n",
    "    epsilon_rewards = [[] for _ in 1:num_arms]\n",
    "\n",
    "    for pull in 1:num_pulls\n",
    "        # gittins indices\n",
    "        gittins_action = get_gittins_action(gittins_priors, gamma)\n",
    "        gittins_reward = rand(arms[gittins_action])\n",
    "        push!(gittins_rewards, gittins_reward)\n",
    "        gittins_priors[gittins_action][gittins_reward ? 1 : 2] += 1        \n",
    "        \n",
    "        # thompson sampling\n",
    "        thompson_action = get_thompson_action(thompson_priors)\n",
    "        thompson_reward = rand(arms[thompson_action])\n",
    "        push!(thompson_rewards, thompson_reward)\n",
    "        thompson_priors[thompson_action][thompson_reward ? 1 : 2] += 1\n",
    "            \n",
    "        # UCB \n",
    "        ucb_action = get_ucb_action(ucb_values, pull, c)\n",
    "        ucb_reward = rand(arms[ucb_action])\n",
    "        push!(ucb_rewards, ucb_reward)\n",
    "        ucb_values[ucb_action] += (ucb_reward - ucb_values[ucb_action]) / pull # or is this ucb_counts[ucb_action]\n",
    "            \n",
    "        # Epsilon Greedy \n",
    "        q_counts[gittins_action] += 1\n",
    "        q_values[gittins_action] += (gittins_reward - q_values[gittins_action]) / q_counts[gittins_action]\n",
    "        greedy_action = get_greedy_action(q_values, epsilon)\n",
    "        greedy_reward = rand(arms[greedy_action])\n",
    "        push!(epsilon_rewards[epsilon_action], epsilon_reward)\n",
    "            \n",
    "    end\n",
    "    return (\n",
    "        gittins_rewards=gittins_rewards, \n",
    "        thompson_rewards=thompson_rewards,\n",
    "        ucb_rewards=ucb_rewards,\n",
    "        epsilon_rewards=epsilon_rewards,\n",
    "    )\n",
    "end"
   ]
  },
  {
   "cell_type": "code",
   "execution_count": 7,
   "id": "57d50ecd",
   "metadata": {},
   "outputs": [
    {
     "ename": "LoadError",
     "evalue": "UndefVarError: Bernoulli not defined",
     "output_type": "error",
     "traceback": [
      "UndefVarError: Bernoulli not defined",
      "",
      "Stacktrace:",
      " [1] (::var\"#17#20\")(#unused#::Int64)",
      "   @ Main ./none:0",
      " [2] iterate",
      "   @ ./generator.jl:47 [inlined]",
      " [3] collect(itr::Base.Generator{UnitRange{Int64}, var\"#17#20\"})",
      "   @ Base ./array.jl:787",
      " [4] gittins_ucb_thompson(; num_arms::Int64, gamma::Float64, num_pulls::Int64)",
      "   @ Main ./In[6]:2",
      " [5] graph_results()",
      "   @ Main ./In[7]:6",
      " [6] top-level scope",
      "   @ In[7]:25"
     ]
    }
   ],
   "source": [
    "function graph_thompson_gittins()\n",
    "    num_pulls = 500\n",
    "    num_arms = 10\n",
    "    gamma = 0.99\n",
    "    \n",
    "    results = gittins_vs(\n",
    "        num_arms = num_arms,\n",
    "        num_pulls = num_pulls,\n",
    "        gamma = gamma,\n",
    "    )\n",
    "    \n",
    "    plot(\n",
    "        1:num_pulls, \n",
    "        [\n",
    "            cumsum(results.gittins_rewards),\n",
    "            cumsum(results.thompson_rewards),\n",
    "        ], \n",
    "        title=\"Explore-Exploit Strategies for Multi-Armed Bandits\", \n",
    "        label=[\"Gittins Indices\" \"Thompson Sampling\"],\n",
    "        xlabel=\"Pulls\",\n",
    "        ylabel=\"Cumulative Reward\",\n",
    "    )\n",
    "end\n",
    "\n",
    "graph_thompson_gittins()"
   ]
  },
  {
   "cell_type": "code",
   "execution_count": null,
   "id": "ed2b1677",
   "metadata": {},
   "outputs": [],
   "source": [
    "# MODIFY for ucb\n",
    "function graph_ucb_gittins()\n",
    "    num_pulls = 500\n",
    "    num_arms = 10\n",
    "    gamma = 0.99\n",
    "    \n",
    "    results = gittins_vs(\n",
    "        num_arms = num_arms,\n",
    "        num_pulls = num_pulls,\n",
    "        gamma = gamma,\n",
    "    )\n",
    "    \n",
    "    plot(\n",
    "        1:num_pulls, \n",
    "        [\n",
    "            cumsum(results.gittins_rewards),\n",
    "            cumsum(results.thompson_rewards),\n",
    "        ], \n",
    "        title=\"Explore-Exploit Strategies for Multi-Armed Bandits\", \n",
    "        label=[\"Gittins Indices\" \"Thompson Sampling\"],\n",
    "        xlabel=\"Pulls\",\n",
    "        ylabel=\"Cumulative Reward\",\n",
    "    )\n",
    "end\n",
    "\n",
    "graph_ucb_gittins()"
   ]
  }
 ],
 "metadata": {
  "kernelspec": {
   "display_name": "Julia 1.8.5",
   "language": "julia",
   "name": "julia-1.8"
  },
  "language_info": {
   "file_extension": ".jl",
   "mimetype": "application/julia",
   "name": "julia",
   "version": "1.8.5"
  }
 },
 "nbformat": 4,
 "nbformat_minor": 5
}
