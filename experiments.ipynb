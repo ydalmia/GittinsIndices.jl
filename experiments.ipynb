{
 "cells": [
  {
   "cell_type": "code",
   "execution_count": 1,
   "id": "4c04f136",
   "metadata": {},
   "outputs": [],
   "source": [
    "using GittinsIndices\n",
    "using Distributions\n",
    "using Plots\n",
    "using ProgressMeter"
   ]
  },
  {
   "cell_type": "code",
   "execution_count": 7,
   "id": "9d2bc2a3",
   "metadata": {},
   "outputs": [
    {
     "data": {
      "text/plain": [
       "get_ucb_action (generic function with 2 methods)"
      ]
     },
     "execution_count": 7,
     "metadata": {},
     "output_type": "execute_result"
    }
   ],
   "source": [
    "function get_gittins_action(gittins_priors, gamma)\n",
    "    gittins_indices = [\n",
    "        calculate_bernoulli_gittins(\n",
    "            alpha = alpha, \n",
    "            beta = beta, \n",
    "            gamma = gamma,\n",
    "        ) for (alpha, beta) in gittins_priors\n",
    "    ]\n",
    "    gittins_action = argmax(gittins_indices)\n",
    "    return gittins_action\n",
    "end\n",
    "\n",
    "function get_thompson_action(thompson_priors)\n",
    "    thompson_sampling_probs = [\n",
    "        alpha / (alpha + beta) \n",
    "        for (alpha, beta) in thompson_priors\n",
    "    ]\n",
    "    thompson_sampling_probs ./= sum(thompson_sampling_probs)\n",
    "    thompson_action = rand(Categorical(thompson_sampling_probs))\n",
    "    return thompson_action\n",
    "end\n",
    "\n",
    "function get_ucb_action(ucb_arm_rewards, ucb_arm_counts, c = 1.0)\n",
    "    total_count = sum(ucb_arm_counts)\n",
    "    ucb_bounds = ucb_arm_rewards ./ ucb_arm_counts .+ c .* sqrt.(total_count ./ ucb_arm_counts)\n",
    "    ucb_action = argmax(ucb_bounds)\n",
    "    return ucb_action\n",
    "end"
   ]
  },
  {
   "cell_type": "code",
   "execution_count": 11,
   "id": "c01f4a9a",
   "metadata": {},
   "outputs": [
    {
     "data": {
      "text/plain": [
       "gittins_vs (generic function with 1 method)"
      ]
     },
     "execution_count": 11,
     "metadata": {},
     "output_type": "execute_result"
    }
   ],
   "source": [
    "function gittins_vs(;num_arms, num_pulls)\n",
    "    arms = [Bernoulli(rand(Float64)) for _ in 1:num_arms]\n",
    "    best_arm_p = maximum([arm.p for arm in arms])\n",
    "    optimal_rewards = collect(1:num_pulls) .* best_arm_p\n",
    "    \n",
    "    gittins_priors = [[1, 1] for _ in 1:num_arms]\n",
    "    gittins_rewards = []\n",
    "    \n",
    "    thompson_priors = [[1, 1] for _ in 1:num_arms]\n",
    "    thompson_rewards = []\n",
    "    \n",
    "    ucb_arm_rewards = [0.0 for _ in 1:num_arms]\n",
    "    ucb_arm_counts = [1 for _ in 1:num_arms]\n",
    "    ucb_rewards = []\n",
    "    \n",
    "    for pull in 1:num_pulls\n",
    "        # gittins indices\n",
    "        gamma = 1 - 1 / pull\n",
    "        gittins_action = get_gittins_action(gittins_priors, gamma)\n",
    "        gittins_reward = rand(arms[gittins_action])\n",
    "        push!(gittins_rewards, gittins_reward)\n",
    "        gittins_priors[gittins_action][gittins_reward ? 1 : 2] += 1        \n",
    "        \n",
    "        # thompson sampling\n",
    "        thompson_action = get_thompson_action(thompson_priors)\n",
    "        thompson_reward = rand(arms[thompson_action])\n",
    "        push!(thompson_rewards, thompson_reward)\n",
    "        thompson_priors[thompson_action][thompson_reward ? 1 : 2] += 1\n",
    "            \n",
    "        # UCB \n",
    "        ucb_action = get_ucb_action(ucb_arm_rewards, ucb_arm_counts)\n",
    "        ucb_reward = rand(arms[ucb_action])\n",
    "        push!(ucb_rewards, ucb_reward)\n",
    "        ucb_arm_counts[ucb_action] += 1\n",
    "        ucb_arm_rewards[ucb_action] += ucb_reward            \n",
    "    end\n",
    "            \n",
    "    return (\n",
    "        gittins_regret = optimal_rewards .- cumsum(gittins_rewards), \n",
    "        thompson_regret = optimal_rewards .- cumsum(thompson_rewards),\n",
    "        ucb_regret = optimal_rewards .- cumsum(ucb_rewards),\n",
    "    )\n",
    "end"
   ]
  },
  {
   "cell_type": "code",
   "execution_count": null,
   "id": "57d50ecd",
   "metadata": {},
   "outputs": [
    {
     "name": "stderr",
     "output_type": "stream",
     "text": [
      "\u001b[32mProgress:  95%|███████████████████████████████████████  |  ETA: 0:00:05\u001b[39m"
     ]
    }
   ],
   "source": [
    "function graph_thompson_gittins()    \n",
    "    num_arms = 5\n",
    "    num_pulls = 100\n",
    "    \n",
    "    results = []\n",
    "    @showprogress for _ in 1:100\n",
    "        push!(\n",
    "            results, \n",
    "            gittins_vs(\n",
    "                num_arms = num_arms,\n",
    "                num_pulls = num_pulls,\n",
    "            )\n",
    "        )\n",
    "    end\n",
    "    \n",
    "    gittins_regret = mean([result.gittins_regret for result in results])\n",
    "    thompson_regret = mean([result.thompson_regret for result in results])\n",
    "    ucb_regret = mean([result.ucb_regret for result in results])\n",
    "    \n",
    "    plot(\n",
    "        1:num_pulls, \n",
    "        [\n",
    "            gittins_regret,\n",
    "            thompson_regret,\n",
    "            ucb_regret\n",
    "        ], \n",
    "        title=\"Explore-Exploit Strategies for Multi-Armed Bandits\", \n",
    "        label=[\"Gittins Indices\" \"Thompson Sampling\" \"UCB\"],\n",
    "        xlabel=\"Pulls\",\n",
    "        ylabel=\"Average Cumulative Regret\",\n",
    "    )\n",
    "\n",
    "end\n",
    "\n",
    "graph_thompson_gittins()"
   ]
  }
 ],
 "metadata": {
  "kernelspec": {
   "display_name": "Julia 1.8.5",
   "language": "julia",
   "name": "julia-1.8"
  },
  "language_info": {
   "file_extension": ".jl",
   "mimetype": "application/julia",
   "name": "julia",
   "version": "1.8.5"
  }
 },
 "nbformat": 4,
 "nbformat_minor": 5
}
